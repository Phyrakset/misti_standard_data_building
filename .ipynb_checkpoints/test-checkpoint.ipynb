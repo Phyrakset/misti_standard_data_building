{
 "cells": [
  {
   "cell_type": "code",
   "execution_count": 2,
   "metadata": {},
   "outputs": [
    {
     "ename": "ModuleNotFoundError",
     "evalue": "No module named 'pymysql'",
     "output_type": "error",
     "traceback": [
      "\u001b[1;31m---------------------------------------------------------------------------\u001b[0m",
      "\u001b[1;31mModuleNotFoundError\u001b[0m                       Traceback (most recent call last)",
      "Cell \u001b[1;32mIn[2], line 1\u001b[0m\n\u001b[1;32m----> 1\u001b[0m \u001b[38;5;28;01mimport\u001b[39;00m \u001b[38;5;21;01mpymysql\u001b[39;00m\n\u001b[0;32m      3\u001b[0m \u001b[38;5;66;03m# Database connection\u001b[39;00m\n\u001b[0;32m      4\u001b[0m connection \u001b[38;5;241m=\u001b[39m pymysql\u001b[38;5;241m.\u001b[39mconnect(\n\u001b[0;32m      5\u001b[0m     host\u001b[38;5;241m=\u001b[39m\u001b[38;5;124m'\u001b[39m\u001b[38;5;124mlocalhost\u001b[39m\u001b[38;5;124m'\u001b[39m,\n\u001b[0;32m      6\u001b[0m     user\u001b[38;5;241m=\u001b[39m\u001b[38;5;124m'\u001b[39m\u001b[38;5;124mroot\u001b[39m\u001b[38;5;124m'\u001b[39m,\n\u001b[0;32m      7\u001b[0m     password\u001b[38;5;241m=\u001b[39m\u001b[38;5;124m'\u001b[39m\u001b[38;5;124mphyrak23\u001b[39m\u001b[38;5;124m'\u001b[39m,\n\u001b[0;32m      8\u001b[0m     db\u001b[38;5;241m=\u001b[39m\u001b[38;5;124m'\u001b[39m\u001b[38;5;124mmisti\u001b[39m\u001b[38;5;124m'\u001b[39m\n\u001b[0;32m      9\u001b[0m )\n",
      "\u001b[1;31mModuleNotFoundError\u001b[0m: No module named 'pymysql'"
     ]
    }
   ],
   "source": [
    "import pymysql\n",
    "\n",
    "# Database connection\n",
    "connection = pymysql.connect(\n",
    "    host='localhost',\n",
    "    user='root',\n",
    "    password='phyrak23',\n",
    "    db='misti'\n",
    ")\n",
    "\n",
    "try:\n",
    "    with connection.cursor() as cursor:\n",
    "        # Replace `your_id` with the actual id\n",
    "        sql = \"SELECT Drawing_Water_Transmission_Network FROM raw_watersource WHERE idRawWaterSource = %s\"\n",
    "        cursor.execute(sql, (4,))\n",
    "        result = cursor.fetchone()\n",
    "\n",
    "        if result:\n",
    "            blob_data = result[0]\n",
    "            # Save BLOB to a file\n",
    "            with open('output_file.png', 'wb') as file:\n",
    "                file.write(blob_data)\n",
    "            print(\"File saved successfully.\")\n",
    "        else:\n",
    "            print(\"No data found.\")\n",
    "finally:\n",
    "    connection.close()\n"
   ]
  },
  {
   "cell_type": "code",
   "execution_count": null,
   "metadata": {},
   "outputs": [],
   "source": [
    "pip install pymysql"
   ]
  },
  {
   "cell_type": "markdown",
   "metadata": {},
   "source": [
    "## Generate Dataset"
   ]
  },
  {
   "cell_type": "code",
   "execution_count": 38,
   "metadata": {},
   "outputs": [],
   "source": [
    "# pip install pandas mysql-connector-python"
   ]
  },
  {
   "cell_type": "code",
   "execution_count": 39,
   "metadata": {},
   "outputs": [],
   "source": [
    "import pandas as pd\n",
    "import mysql.connector as mysql"
   ]
  },
  {
   "cell_type": "code",
   "execution_count": 40,
   "metadata": {},
   "outputs": [],
   "source": [
    "def insert_csv_to_db(file_mappings, db_config):\n",
    "    \"\"\"\n",
    "    Inserts data from multiple CSV files into corresponding MySQL tables.\n",
    "\n",
    "    Parameters:\n",
    "    file_mappings (list of dict): A list of mappings where each dict contains:\n",
    "        - 'csv_file': Path to the CSV file.\n",
    "        - 'table_name': The name of the MySQL table.\n",
    "        - 'columns': A list of column names corresponding to the CSV file and table.\n",
    "\n",
    "    db_config (dict): Database configuration containing:\n",
    "        - 'host': The database host.\n",
    "        - 'user': The database username.\n",
    "        - 'password': The database password.\n",
    "        - 'database': The name of the database to connect to.\n",
    "\n",
    "    Returns:\n",
    "    None\n",
    "    \"\"\"\n",
    "    # Establish MySQL connection\n",
    "    conn = mysql.connect(\n",
    "        host=db_config['host'],\n",
    "        user=db_config['user'],\n",
    "        password=db_config['password'],\n",
    "        database=db_config['database']\n",
    "    )\n",
    "    cursor = conn.cursor()\n",
    "\n",
    "    # Loop through each file mapping and insert data into the corresponding table\n",
    "    for mapping in file_mappings:\n",
    "        # Read the CSV file into a DataFrame\n",
    "        df = pd.read_csv(mapping['csv_file'])\n",
    "\n",
    "        # Prepare the SQL insert statement dynamically based on the table and column names\n",
    "        placeholders = ', '.join(['%s'] * len(mapping['columns']))  # Prepare placeholders for the SQL statement\n",
    "        columns = ', '.join(mapping['columns'])  # Convert the list of columns to a comma-separated string\n",
    "\n",
    "        for index, row in df.iterrows():\n",
    "            # Prepare the values to be inserted, excluding the auto-incremented primary key\n",
    "            values = [row[col] for col in mapping['columns']]\n",
    "\n",
    "            # Construct the SQL query\n",
    "            sql = f\"INSERT INTO {mapping['table_name']} ({columns}) VALUES ({placeholders})\"\n",
    "\n",
    "            # Execute the insert statement\n",
    "            cursor.execute(sql, values)\n",
    "\n",
    "    # Commit the transaction\n",
    "    conn.commit()\n",
    "\n",
    "    # Close the connection\n",
    "    cursor.close()\n",
    "    conn.close()\n",
    "\n",
    "    print(\"Data inserted successfully!\")\n"
   ]
  },
  {
   "cell_type": "code",
   "execution_count": 41,
   "metadata": {},
   "outputs": [],
   "source": [
    "# Database configuration\n",
    "db_config = {\n",
    "    'host': \"localhost\",\n",
    "    'user': \"root\",\n",
    "    'password': \"phyrak23\",\n",
    "    'database': \"misti\"\n",
    "}"
   ]
  },
  {
   "cell_type": "code",
   "execution_count": 42,
   "metadata": {},
   "outputs": [],
   "source": [
    "file_mappings = [\n",
    "    {\n",
    "        'csv_file': 'C:/Users/SOPHY/Downloads/for_of_oficial_user_only.csv',\n",
    "        'table_name': 'for_of_oficial_user_only',\n",
    "        'columns': ['SafetyMarkNumber', 'OfficerNumber']\n",
    "    }\n",
    "]\n"
   ]
  },
  {
   "cell_type": "code",
   "execution_count": 43,
   "metadata": {},
   "outputs": [],
   "source": [
    "file_mappings = [\n",
    "    {\n",
    "        'csv_file': 'C:/Users/SOPHY/Downloads/company_signatur_and_stamp.csv',\n",
    "        'table_name': 'company_signatur_and_stamp',\n",
    "        'columns': ['Name', 'Date', 'Position', 'SignatureOrFingerprint', 'Stamp']\n",
    "    }\n",
    "]\n"
   ]
  },
  {
   "cell_type": "code",
   "execution_count": 44,
   "metadata": {},
   "outputs": [],
   "source": [
    "file_mappings = [\n",
    "\n",
    "    {\n",
    "        'csv_file': 'C:/Users/SOPHY/Downloads/company.csv',\n",
    "        'table_name': 'company',\n",
    "        'columns': ['Name', 'Email', 'Address', 'Phone', 'LocationPlan']\n",
    "    }\n",
    "]"
   ]
  },
  {
   "cell_type": "code",
   "execution_count": 45,
   "metadata": {},
   "outputs": [],
   "source": [
    "file_mappings1 = [\n",
    "    {\n",
    "        'csv_file': 'C:/Users/SOPHY/Downloads/raw_watersource.csv',\n",
    "        'table_name': 'raw_watersource',\n",
    "        'columns': [\n",
    "            'code', \n",
    "            'RawWaterSource_name', \n",
    "            'availability_year_round', \n",
    "            'total_abstraction', \n",
    "            'Drawing_RawWater_PumpingStation', \n",
    "            'Drawing_Water_Transmission_Network', \n",
    "            'Drawing_Water_Treatment_Plant'\n",
    "        ]\n",
    "    }\n",
    "]\n"
   ]
  },
  {
   "cell_type": "code",
   "execution_count": 46,
   "metadata": {},
   "outputs": [],
   "source": [
    "file_mappings2 = [\n",
    "    {\n",
    "        'csv_file': 'C:/Users/SOPHY/Downloads/human_resources.csv',\n",
    "        'table_name': 'human_resources',\n",
    "        'columns': [\n",
    "            'code', \n",
    "            'Humanresources_name', \n",
    "            'total_staff', \n",
    "            'staff_per_1000_subscribers', \n",
    "            'training_sessions', \n",
    "            'organization_chart', \n",
    "            'idRawWaterSource'  # Foreign key, needs to match an existing record in raw_watersource\n",
    "        ]\n",
    "    }\n",
    "]\n"
   ]
  },
  {
   "cell_type": "code",
   "execution_count": 54,
   "metadata": {},
   "outputs": [],
   "source": [
    "file_mappings3 = [\n",
    "    {\n",
    "        'csv_file': 'C:/Users/SOPHY/Downloads/treatment_plant.csv',\n",
    "        'table_name': 'treatment_plant',\n",
    "        'columns': [\n",
    "            'code', \n",
    "            'TreatmentPlant_name', \n",
    "            'treatment_losses', \n",
    "            'pac_consumption', \n",
    "            'pac_per_m3_produced', \n",
    "            'alum_consumption', \n",
    "            'alum_per_m3_produced', \n",
    "            'chlorine_consumption', \n",
    "            'chlorine_per_m3_produced', \n",
    "            'electricity_consumption', \n",
    "            'electricity_per_m3_produced', \n",
    "            'lime_consumption', \n",
    "            'lime_per_m3_produced', \n",
    "            'fuel_consumption', \n",
    "            'fuel_per_m3_produced', \n",
    "            'production_capacity', \n",
    "            'idRawWaterSource'  # Foreign key, ensure it matches an existing record in raw_watersource\n",
    "        ]\n",
    "    }\n",
    "]\n"
   ]
  },
  {
   "cell_type": "code",
   "execution_count": 48,
   "metadata": {},
   "outputs": [],
   "source": [
    "file_mappings4 = [\n",
    "    {\n",
    "        'csv_file': 'C:/Users/SOPHY/Downloads/water_quality.csv',\n",
    "        'table_name': 'water_quality',\n",
    "        'columns': [\n",
    "            'code', \n",
    "            'WaterQuality_name', \n",
    "            'color', \n",
    "            'turbidity', \n",
    "            'ph_level', \n",
    "            'arsenic_level', \n",
    "            'total_dissolved_solids', \n",
    "            'manganese_level', \n",
    "            'zinc_level', \n",
    "            'sulfate_level', \n",
    "            'copper_level', \n",
    "            'hydrogen_sulfide', \n",
    "            'hardness', \n",
    "            'aluminum_level', \n",
    "            'chloride_level', \n",
    "            'iron_level', \n",
    "            'ammonia_level', \n",
    "            'barium_level', \n",
    "            'cadmium_level', \n",
    "            'chromium_level', \n",
    "            'fluoride_level', \n",
    "            'lead_level', \n",
    "            'mercury_level', \n",
    "            'nitrate_level', \n",
    "            'nitrite_level', \n",
    "            'sodium_level', \n",
    "            'residual_chlorine', \n",
    "            'idTreatmentPlant'  # Foreign key, ensure it matches an existing record in treatment_plant\n",
    "        ]\n",
    "    }\n",
    "]\n"
   ]
  },
  {
   "cell_type": "code",
   "execution_count": 49,
   "metadata": {},
   "outputs": [],
   "source": [
    "file_mappings5 = [\n",
    "    {\n",
    "        'csv_file': 'C:/Users/SOPHY/Downloads/commercial.csv',\n",
    "        'table_name': 'commercial',\n",
    "        'columns': [\n",
    "            'code', \n",
    "            'Commercial_name', \n",
    "            'population_served', \n",
    "            'service_coverage_license_area', \n",
    "            'service_coverage_network_area', \n",
    "            'Water_Production', \n",
    "            'water_sold', \n",
    "            'water_supplied_without_charge', \n",
    "            'total_water_consumption', \n",
    "            'water_losses', \n",
    "            'non_revenue_water', \n",
    "            'average_daily_consumption', \n",
    "            'average_consumption_per_connection', \n",
    "            'average_consumption_per_capita', \n",
    "            'total_water_connections', \n",
    "            'residential_connections', \n",
    "            'commercial_connections', \n",
    "            'public_entity_connections', \n",
    "            'factory_connections', \n",
    "            'sme_connections', \n",
    "            'poor_connections', \n",
    "            'poor_household_ratio', \n",
    "            'customer_complaints', \n",
    "            'complaints_per_1000_connections', \n",
    "            'license_area_profile', \n",
    "            'network_area_population', \n",
    "            'network_area_houses', \n",
    "            'licensed_area_population', \n",
    "            'licensed_area_houses', \n",
    "            'idTreatmentPlant'  # Foreign key, ensure it matches an existing record in treatment_plant\n",
    "        ]\n",
    "    }\n",
    "]\n"
   ]
  },
  {
   "cell_type": "code",
   "execution_count": 66,
   "metadata": {},
   "outputs": [],
   "source": [
    "file_mappings6 = [\n",
    "    {\n",
    "        'csv_file': 'C:/Users/SOPHY/Downloads/financial.csv',\n",
    "        'table_name': 'financial',\n",
    "        'columns': [\n",
    "            'code', \n",
    "            'Financial_name', \n",
    "            'cash_from_water_sales', \n",
    "            'other_cash', \n",
    "            'amount_billed_for_water_sales', \n",
    "            'amount_billed_for_other_services', \n",
    "            'accounts_receivable', \n",
    "            'average_tariff', \n",
    "            'bill_collection_ratio', \n",
    "            'total_operating_expenses', \n",
    "            'operating_ratio', \n",
    "            'production_expenses', \n",
    "            'unit_production_cost', \n",
    "            'net_income', \n",
    "            'net_profit_margin', \n",
    "            'investment_expenditures', \n",
    "            'loans', \n",
    "            'accounts_payable', \n",
    "            'total_assets', \n",
    "            'owner_equity', \n",
    "            'debt_to_equity_ratio', \n",
    "            'return_on_assets', \n",
    "            'return_on_equity', \n",
    "            'interest_expense', \n",
    "            'depreciation_expense', \n",
    "            'other_expense', \n",
    "            'residential_tariff', \n",
    "            'commercial_tariff', \n",
    "            'government_tariff', \n",
    "            'idCommercial'  # Foreign key, ensure it matches an existing record in commercial\n",
    "        ]\n",
    "    }\n",
    "]\n"
   ]
  },
  {
   "cell_type": "code",
   "execution_count": 69,
   "metadata": {},
   "outputs": [],
   "source": [
    "file_mappings7 = [\n",
    "    {\n",
    "        'csv_file': 'C:/Users/SOPHY/Downloads/distribution_network.csv',\n",
    "        'table_name': 'distribution_network',\n",
    "        'columns': [\n",
    "            'code', \n",
    "            'DistributionNetwork_name', \n",
    "            'Supply_Pressure_end_connection', \n",
    "            'Number_leak_repaired', \n",
    "            'total_length', \n",
    "            'transmission_length', \n",
    "            'distribution_length', \n",
    "            'Storagecapacity', \n",
    "            'Supply_duration', \n",
    "            'idCommercial'  # Foreign key, ensure it matches an existing record in commercial\n",
    "        ]\n",
    "    }\n",
    "]\n"
   ]
  },
  {
   "cell_type": "code",
   "execution_count": 70,
   "metadata": {},
   "outputs": [
    {
     "name": "stdout",
     "output_type": "stream",
     "text": [
      "Data inserted successfully!\n"
     ]
    }
   ],
   "source": [
    "# Call the function\n",
    "insert_csv_to_db(file_mappings7, db_config)"
   ]
  },
  {
   "cell_type": "code",
   "execution_count": 3,
   "metadata": {},
   "outputs": [],
   "source": [
    "# pip install streamlit"
   ]
  },
  {
   "cell_type": "markdown",
   "metadata": {},
   "source": [
    "# For Data Visualize "
   ]
  },
  {
   "cell_type": "code",
   "execution_count": 10,
   "metadata": {},
   "outputs": [],
   "source": [
    "from config import get_connection\n",
    "import streamlit as st\n",
    "import pandas as pd\n",
    "import matplotlib.pyplot as plt\n",
    "import seaborn as sns"
   ]
  },
  {
   "cell_type": "code",
   "execution_count": 12,
   "metadata": {},
   "outputs": [],
   "source": [
    "# Fetch data from a specified table\n",
    "def fetch_data(table_name):\n",
    "    conn = get_connection()\n",
    "    query = f\"SELECT * FROM {table_name};\"\n",
    "    df = pd.read_sql(query, conn)\n",
    "    conn.close()\n",
    "    return df"
   ]
  },
  {
   "cell_type": "code",
   "execution_count": 20,
   "metadata": {},
   "outputs": [
    {
     "name": "stderr",
     "output_type": "stream",
     "text": [
      "C:\\Users\\SOPHY\\AppData\\Local\\Temp\\ipykernel_700\\1989723835.py:5: UserWarning: pandas only supports SQLAlchemy connectable (engine/connection) or database string URI or sqlite3 DBAPI2 connection. Other DBAPI2 objects are not tested. Please consider using SQLAlchemy.\n",
      "  df = pd.read_sql(query, conn)\n"
     ]
    }
   ],
   "source": [
    "data1 = fetch_data(\"raw_watersource\")"
   ]
  },
  {
   "cell_type": "code",
   "execution_count": null,
   "metadata": {},
   "outputs": [],
   "source": []
  },
  {
   "cell_type": "code",
   "execution_count": 21,
   "metadata": {},
   "outputs": [
    {
     "data": {
      "text/html": [
       "<div>\n",
       "<style scoped>\n",
       "    .dataframe tbody tr th:only-of-type {\n",
       "        vertical-align: middle;\n",
       "    }\n",
       "\n",
       "    .dataframe tbody tr th {\n",
       "        vertical-align: top;\n",
       "    }\n",
       "\n",
       "    .dataframe thead th {\n",
       "        text-align: right;\n",
       "    }\n",
       "</style>\n",
       "<table border=\"1\" class=\"dataframe\">\n",
       "  <thead>\n",
       "    <tr style=\"text-align: right;\">\n",
       "      <th></th>\n",
       "      <th>availability_year_round</th>\n",
       "      <th>total_abstraction_sum</th>\n",
       "      <th>water_sources</th>\n",
       "    </tr>\n",
       "  </thead>\n",
       "  <tbody>\n",
       "    <tr>\n",
       "      <th>0</th>\n",
       "      <td>0</td>\n",
       "      <td>22643.175</td>\n",
       "      <td>Prek Thnot River, Stung Treng River, Stung Chi...</td>\n",
       "    </tr>\n",
       "    <tr>\n",
       "      <th>1</th>\n",
       "      <td>1</td>\n",
       "      <td>38776.543</td>\n",
       "      <td>Mekong River, Tonle Sap Lake, Bassac River, St...</td>\n",
       "    </tr>\n",
       "  </tbody>\n",
       "</table>\n",
       "</div>"
      ],
      "text/plain": [
       "   availability_year_round  total_abstraction_sum  \\\n",
       "0                        0              22643.175   \n",
       "1                        1              38776.543   \n",
       "\n",
       "                                       water_sources  \n",
       "0  Prek Thnot River, Stung Treng River, Stung Chi...  \n",
       "1  Mekong River, Tonle Sap Lake, Bassac River, St...  "
      ]
     },
     "execution_count": 21,
     "metadata": {},
     "output_type": "execute_result"
    }
   ],
   "source": [
    "\n",
    "# Group by availability year-round and sum total abstraction for each group\n",
    "grouped = data1.groupby('availability_year_round').agg(\n",
    "    total_abstraction_sum=('total_abstraction', 'sum'),\n",
    "    water_sources=('RawWaterSource_name', lambda x: ', '.join(x))\n",
    ").reset_index()\n",
    "grouped"
   ]
  },
  {
   "cell_type": "code",
   "execution_count": 27,
   "metadata": {},
   "outputs": [
    {
     "data": {
      "text/html": [
       "<div>\n",
       "<style scoped>\n",
       "    .dataframe tbody tr th:only-of-type {\n",
       "        vertical-align: middle;\n",
       "    }\n",
       "\n",
       "    .dataframe tbody tr th {\n",
       "        vertical-align: top;\n",
       "    }\n",
       "\n",
       "    .dataframe thead th {\n",
       "        text-align: right;\n",
       "    }\n",
       "</style>\n",
       "<table border=\"1\" class=\"dataframe\">\n",
       "  <thead>\n",
       "    <tr style=\"text-align: right;\">\n",
       "      <th></th>\n",
       "      <th>availability</th>\n",
       "      <th>total_abstraction_sum</th>\n",
       "      <th>water_sources</th>\n",
       "    </tr>\n",
       "  </thead>\n",
       "  <tbody>\n",
       "    <tr>\n",
       "      <th>0</th>\n",
       "      <td>Not Available Year Round</td>\n",
       "      <td>22643.175</td>\n",
       "      <td>Prek Thnot River, Stung Treng River, Stung Chi...</td>\n",
       "    </tr>\n",
       "    <tr>\n",
       "      <th>1</th>\n",
       "      <td>Available Year Round</td>\n",
       "      <td>38776.543</td>\n",
       "      <td>Mekong River, Tonle Sap Lake, Bassac River, St...</td>\n",
       "    </tr>\n",
       "  </tbody>\n",
       "</table>\n",
       "</div>"
      ],
      "text/plain": [
       "               availability  total_abstraction_sum  \\\n",
       "0  Not Available Year Round              22643.175   \n",
       "1      Available Year Round              38776.543   \n",
       "\n",
       "                                       water_sources  \n",
       "0  Prek Thnot River, Stung Treng River, Stung Chi...  \n",
       "1  Mekong River, Tonle Sap Lake, Bassac River, St...  "
      ]
     },
     "execution_count": 27,
     "metadata": {},
     "output_type": "execute_result"
    }
   ],
   "source": [
    "# Mapping availability\n",
    "grouped['availability'] = grouped['availability_year_round'].map({1: 'Available Year Round', 0: 'Not Available Year Round'})\n",
    "\n",
    "# Display the analysis\n",
    "grouped[['availability', 'total_abstraction_sum', 'water_sources']]"
   ]
  },
  {
   "cell_type": "code",
   "execution_count": 28,
   "metadata": {},
   "outputs": [
    {
     "name": "stderr",
     "output_type": "stream",
     "text": [
      "C:\\Users\\SOPHY\\AppData\\Local\\Temp\\ipykernel_700\\4173974664.py:8: UserWarning: FigureCanvasAgg is non-interactive, and thus cannot be shown\n",
      "  plt.show()\n"
     ]
    }
   ],
   "source": [
    "# Pie chart visualization\n",
    "labels = grouped['availability']\n",
    "sizes = grouped['total_abstraction_sum']\n",
    "\n",
    "plt.figure(figsize=(6, 6))\n",
    "plt.pie(sizes, labels=labels, autopct='%1.1f%%', startangle=90, colors=['#ff9999','#66b3ff'])\n",
    "plt.title('Total Abstraction: Year-Round vs Seasonal Water Sources')\n",
    "plt.show()"
   ]
  }
 ],
 "metadata": {
  "kernelspec": {
   "display_name": "Python 3",
   "language": "python",
   "name": "python3"
  },
  "language_info": {
   "codemirror_mode": {
    "name": "ipython",
    "version": 3
   },
   "file_extension": ".py",
   "mimetype": "text/x-python",
   "name": "python",
   "nbconvert_exporter": "python",
   "pygments_lexer": "ipython3",
   "version": "3.12.6"
  }
 },
 "nbformat": 4,
 "nbformat_minor": 2
}
